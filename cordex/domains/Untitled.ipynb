{
 "cells": [
  {
   "cell_type": "code",
   "execution_count": 18,
   "id": "c08e5809",
   "metadata": {},
   "outputs": [
    {
     "name": "stdout",
     "output_type": "stream",
     "text": [
      "The autoreload extension is already loaded. To reload it, use:\n",
      "  %reload_ext autoreload\n"
     ]
    }
   ],
   "source": [
    "%load_ext autoreload\n",
    "%autoreload 2"
   ]
  },
  {
   "cell_type": "code",
   "execution_count": 19,
   "id": "5d44fc9e",
   "metadata": {},
   "outputs": [],
   "source": [
    "from cordex.tables  import _resources"
   ]
  },
  {
   "cell_type": "code",
   "execution_count": 21,
   "id": "6a438be6",
   "metadata": {},
   "outputs": [
    {
     "name": "stderr",
     "output_type": "stream",
     "text": [
      "Downloading file 'prudence.csv' from 'https://raw.githubusercontent.com/euro-cordex/tables/master/regions/prudence.csv' to '/Users/lars/.cordex'.\n"
     ]
    }
   ],
   "source": [
    "df = _resources.read_domain_table(\"cordex.csv\")"
   ]
  },
  {
   "cell_type": "code",
   "execution_count": 22,
   "id": "9d7e759b",
   "metadata": {},
   "outputs": [
    {
     "data": {
      "text/html": [
       "<div>\n",
       "<style scoped>\n",
       "    .dataframe tbody tr th:only-of-type {\n",
       "        vertical-align: middle;\n",
       "    }\n",
       "\n",
       "    .dataframe tbody tr th {\n",
       "        vertical-align: top;\n",
       "    }\n",
       "\n",
       "    .dataframe thead th {\n",
       "        text-align: right;\n",
       "    }\n",
       "</style>\n",
       "<table border=\"1\" class=\"dataframe\">\n",
       "  <thead>\n",
       "    <tr style=\"text-align: right;\">\n",
       "      <th></th>\n",
       "      <th>area</th>\n",
       "      <th>name</th>\n",
       "      <th>west</th>\n",
       "      <th>east</th>\n",
       "      <th>south</th>\n",
       "      <th>north</th>\n",
       "    </tr>\n",
       "  </thead>\n",
       "  <tbody>\n",
       "    <tr>\n",
       "      <th>0</th>\n",
       "      <td>IP</td>\n",
       "      <td>Iberian Peninsula</td>\n",
       "      <td>-10</td>\n",
       "      <td>3</td>\n",
       "      <td>36</td>\n",
       "      <td>44</td>\n",
       "    </tr>\n",
       "    <tr>\n",
       "      <th>1</th>\n",
       "      <td>FR</td>\n",
       "      <td>France</td>\n",
       "      <td>-5</td>\n",
       "      <td>5</td>\n",
       "      <td>44</td>\n",
       "      <td>50</td>\n",
       "    </tr>\n",
       "    <tr>\n",
       "      <th>2</th>\n",
       "      <td>ME</td>\n",
       "      <td>Mid-Europe</td>\n",
       "      <td>2</td>\n",
       "      <td>16</td>\n",
       "      <td>48</td>\n",
       "      <td>55</td>\n",
       "    </tr>\n",
       "    <tr>\n",
       "      <th>3</th>\n",
       "      <td>AL</td>\n",
       "      <td>Alps</td>\n",
       "      <td>5</td>\n",
       "      <td>15</td>\n",
       "      <td>44</td>\n",
       "      <td>48</td>\n",
       "    </tr>\n",
       "    <tr>\n",
       "      <th>4</th>\n",
       "      <td>MD</td>\n",
       "      <td>Mediterranean</td>\n",
       "      <td>3</td>\n",
       "      <td>25</td>\n",
       "      <td>36</td>\n",
       "      <td>44</td>\n",
       "    </tr>\n",
       "    <tr>\n",
       "      <th>5</th>\n",
       "      <td>EA</td>\n",
       "      <td>Eastern Europe</td>\n",
       "      <td>16</td>\n",
       "      <td>30</td>\n",
       "      <td>44</td>\n",
       "      <td>55</td>\n",
       "    </tr>\n",
       "    <tr>\n",
       "      <th>6</th>\n",
       "      <td>NaN</td>\n",
       "      <td>Northwestern Africa</td>\n",
       "      <td>-10</td>\n",
       "      <td>12</td>\n",
       "      <td>25</td>\n",
       "      <td>36</td>\n",
       "    </tr>\n",
       "    <tr>\n",
       "      <th>7</th>\n",
       "      <td>MI</td>\n",
       "      <td>Middle East</td>\n",
       "      <td>25</td>\n",
       "      <td>43</td>\n",
       "      <td>25</td>\n",
       "      <td>42</td>\n",
       "    </tr>\n",
       "    <tr>\n",
       "      <th>8</th>\n",
       "      <td>SC</td>\n",
       "      <td>Scandinavia</td>\n",
       "      <td>5</td>\n",
       "      <td>30</td>\n",
       "      <td>55</td>\n",
       "      <td>70</td>\n",
       "    </tr>\n",
       "    <tr>\n",
       "      <th>9</th>\n",
       "      <td>BI</td>\n",
       "      <td>British Isles</td>\n",
       "      <td>-10</td>\n",
       "      <td>2</td>\n",
       "      <td>50</td>\n",
       "      <td>59</td>\n",
       "    </tr>\n",
       "  </tbody>\n",
       "</table>\n",
       "</div>"
      ],
      "text/plain": [
       "  area                 name  west  east  south  north\n",
       "0   IP    Iberian Peninsula   -10     3     36     44\n",
       "1   FR               France    -5     5     44     50\n",
       "2   ME           Mid-Europe     2    16     48     55\n",
       "3   AL                 Alps     5    15     44     48\n",
       "4   MD        Mediterranean     3    25     36     44\n",
       "5   EA       Eastern Europe    16    30     44     55\n",
       "6  NaN  Northwestern Africa   -10    12     25     36\n",
       "7   MI          Middle East    25    43     25     42\n",
       "8   SC          Scandinavia     5    30     55     70\n",
       "9   BI        British Isles   -10     2     50     59"
      ]
     },
     "execution_count": 22,
     "metadata": {},
     "output_type": "execute_result"
    }
   ],
   "source": [
    "df"
   ]
  },
  {
   "cell_type": "code",
   "execution_count": 8,
   "id": "893ff1d2",
   "metadata": {},
   "outputs": [
    {
     "data": {
      "text/plain": [
       "{'cordex.csv': '115acce1612ff7d0908ba6693d3ef3892ee01f8656239b7383abdd633a3cbd7d',\n",
       " 'cordex-high-res.csv': 'a9b69a4a0db7e0b5920fc5ae4b030b770697f33e993f4b8fe39bd3a8093bad7c',\n",
       " 'cordex-fps.csv': '09185a260a505c64edf1970a0c7ae91f5adb4d6f08d7e7af83767b96bd5017e3',\n",
       " 'cordex-core.csv': 'fd81e159ae5540581424c2f43a462b324e37b3a2cd7deddc2cf415c077fd8c2b'}"
      ]
     },
     "execution_count": 8,
     "metadata": {},
     "output_type": "execute_result"
    }
   ],
   "source": [
    "_resources.REMOTE_RESSOURCE.registry"
   ]
  }
 ],
 "metadata": {
  "kernelspec": {
   "display_name": "pyremo",
   "language": "python",
   "name": "pyremo"
  },
  "language_info": {
   "codemirror_mode": {
    "name": "ipython",
    "version": 3
   },
   "file_extension": ".py",
   "mimetype": "text/x-python",
   "name": "python",
   "nbconvert_exporter": "python",
   "pygments_lexer": "ipython3",
   "version": "3.8.8"
  }
 },
 "nbformat": 4,
 "nbformat_minor": 5
}
